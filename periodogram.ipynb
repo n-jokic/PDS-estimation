{
 "cells": [
  {
   "cell_type": "code",
   "execution_count": 1,
   "metadata": {},
   "outputs": [],
   "source": [
    "\n",
    "USE_WIDGETS = False\n",
    "\n",
    "import csv as csv\n",
    "\n",
    "\n",
    "if USE_WIDGETS:\n",
    "    %matplotlib widget\n",
    "else:\n",
    "    %matplotlib inline\n",
    "    \n",
    "import matplotlib as mpl\n",
    "\n",
    "import matplotlib.pyplot as plt\n",
    "\n",
    "\n",
    "\n",
    "\n",
    "import numpy as np\n",
    "import matplotlib.pyplot as plt\n",
    "\n",
    "\n",
    "import scipy\n",
    "\n",
    "plt.rcParams.update({\n",
    "  \"text.usetex\": True,\n",
    "  \"font.family\": \"Helvetica\",\n",
    "  \"figure.max_open_warning\" : 1000,\n",
    "  \"font.size\": 10\n",
    "})\n",
    "\n",
    "\n",
    "def FT(x, f):\n",
    "    N = len(x)\n",
    "    n = np.atleast_2d(np.arange(N))\n",
    "    xt = np.atleast_2d(x)\n",
    "    ft = np.atleast_2d(f)\n",
    "    \n",
    "   \n",
    "    \n",
    "    #we neeed x in form n x 1\n",
    "    a, b= xt.shape\n",
    "    if(b > a):\n",
    "        xt = np.transpose(xt)\n",
    "        \n",
    "    #We need ft in form m x 1\n",
    "    a, b = ft.shape\n",
    "    if(b > a):\n",
    "        ft = np.transpose(ft)\n",
    "\n",
    "    Wn = np.exp(-2j*np.pi*(ft @ n))\n",
    "    \n",
    "    X = Wn @ xt\n",
    "\n",
    "    return X\n",
    "\n",
    "def per(x, f):\n",
    "    if(x.ndim == 2):\n",
    "        x = np.concatenate(x)\n",
    "    \n",
    "    N = len(x)\n",
    "\n",
    "    X = FT(x, f)\n",
    "    \n",
    "    Pper = np.power(np.abs(X), 2)/N\n",
    "    \n",
    "    return np.concatenate(Pper)\n",
    "\n",
    "def __split(x, K):\n",
    "    N = len(x)\n",
    "    l = []\n",
    "    for i in range(N):\n",
    "        temp = []\n",
    "        for j in range(K):   \n",
    "            if(i*K + j >= N):\n",
    "                if temp:\n",
    "                    l.append(np.array(temp))\n",
    "                return l\n",
    "            temp.append(x[i*K + j])\n",
    "            #print(i*K, x[i*K])\n",
    "        l.append(np.array(temp))\n",
    "        \n",
    "    return l\n",
    "    \n",
    "\n",
    "def avg_per(x, f, K):\n",
    "    #K podsekvenci, a ne sekvence duzine K.....\n",
    "    if(x.ndim == 2):\n",
    "        x = np.concatenate(x)\n",
    "\n",
    "    N = len(x)\n",
    "    \n",
    "    \n",
    "    L = int(np.ceil(N/K))\n",
    "  \n",
    "    \n",
    "    l = __split(x, L)\n",
    "    L = len(l)\n",
    "    #print(L)\n",
    "    \n",
    "    #print(l)\n",
    "    \n",
    "    #print(N, K, L)\n",
    "    avg = 0\n",
    "    #print(l[0])\n",
    "    #f = np.concatenate(f)\n",
    "    #welp = 0\n",
    "    for i in range(L):\n",
    "        avg += per(l[i], f)\n",
    "        \n",
    "            \n",
    "        #X = np.fft.fft(l[i],50)\n",
    "        #avg += np.power(np.abs(X), 2)/len(f)\n",
    "        #print(per(l[i], f))\n",
    "        \n",
    "    avg = avg/L\n",
    "    \n",
    "    return avg\n",
    "    \n",
    "    \n",
    "    \n"
   ]
  },
  {
   "cell_type": "code",
   "execution_count": 3,
   "metadata": {},
   "outputs": [],
   "source": [
    "import csv as csv\n",
    "file = open('P01_test_sekvenca_1.csv')\n",
    "filename = 'P01_test_sekvenca_1.csv'\n",
    "\n",
    "csvreader = csv.reader(file)\n",
    "\n",
    "x = np.array([])\n",
    "for row in csvreader:\n",
    "        x = np.append(x, complex(row[0]))\n",
    "\n",
    "\n",
    "file.close()\n",
    "\n"
   ]
  },
  {
   "cell_type": "code",
   "execution_count": 6,
   "metadata": {},
   "outputs": [
    {
     "name": "stdout",
     "output_type": "stream",
     "text": [
      "[  0   1   2   3   4   5   6   7   8   9  10  11  12  13  14  15  16  17\n",
      "  18  19  20  21  22  23  24  25  26  27  28  29  30  31  32  33  34  35\n",
      "  36  37  38  39  40  41  42  43  44  45  46  47  48  49  50  51  52  53\n",
      "  54  55  56  57  58  59  60  61  62  63  64  65  66  67  68  69  70  71\n",
      "  72  73  74  75  76  77  78  79  80  81  82  83  84  85  86  87  88  89\n",
      "  90  91  92  93  94  95  96  97  98  99 100 101 102 103 104 105 106 107\n",
      " 108 109 110 111 112 113 114 115 116 117 118 119 120 121 122 123 124 125\n",
      " 126 127 128 129 130 131 132 133 134 135 136 137 138 139 140 141 142 143\n",
      " 144 145 146 147 148 149 150 151 152 153 154 155 156 157 158 159 160 161\n",
      " 162 163 164 165 166 167 168 169 170 171 172 173 174 175 176 177 178 179\n",
      " 180 181 182 183 184 185 186 187 188 189 190 191 192 193 194 195 196 197\n",
      " 198 199 200 201 202 203 204 205 206 207 208 209 210 211 212 213 214 215\n",
      " 216 217 218 219 220 221 222 223 224 225 226 227 228 229 230 231 232 233\n",
      " 234 235 236 237 238 239 240 241 242 243 244 245 246 247 248 249 250 251\n",
      " 252 253 254 255]\n",
      "[array([ 0,  1,  2,  3,  4,  5,  6,  7,  8,  9, 10, 11, 12, 13, 14, 15, 16,\n",
      "       17, 18, 19, 20, 21, 22, 23, 24, 25, 26, 27, 28, 29]), array([30, 31, 32, 33, 34, 35, 36, 37, 38, 39, 40, 41, 42, 43, 44, 45, 46,\n",
      "       47, 48, 49, 50, 51, 52, 53, 54, 55, 56, 57, 58, 59]), array([60, 61, 62, 63, 64, 65, 66, 67, 68, 69, 70, 71, 72, 73, 74, 75, 76,\n",
      "       77, 78, 79, 80, 81, 82, 83, 84, 85, 86, 87, 88, 89]), array([ 90,  91,  92,  93,  94,  95,  96,  97,  98,  99, 100, 101, 102,\n",
      "       103, 104, 105, 106, 107, 108, 109, 110, 111, 112, 113, 114, 115,\n",
      "       116, 117, 118, 119]), array([120, 121, 122, 123, 124, 125, 126, 127, 128, 129, 130, 131, 132,\n",
      "       133, 134, 135, 136, 137, 138, 139, 140, 141, 142, 143, 144, 145,\n",
      "       146, 147, 148, 149]), array([150, 151, 152, 153, 154, 155, 156, 157, 158, 159, 160, 161, 162,\n",
      "       163, 164, 165, 166, 167, 168, 169, 170, 171, 172, 173, 174, 175,\n",
      "       176, 177, 178, 179]), array([180, 181, 182, 183, 184, 185, 186, 187, 188, 189, 190, 191, 192,\n",
      "       193, 194, 195, 196, 197, 198, 199, 200, 201, 202, 203, 204, 205,\n",
      "       206, 207, 208, 209]), array([210, 211, 212, 213, 214, 215, 216, 217, 218, 219, 220, 221, 222,\n",
      "       223, 224, 225, 226, 227, 228, 229, 230, 231, 232, 233, 234, 235,\n",
      "       236, 237, 238, 239]), array([240, 241, 242, 243, 244, 245, 246, 247, 248, 249, 250, 251, 252,\n",
      "       253, 254, 255])]\n"
     ]
    }
   ],
   "source": [
    "x = np.arange(256)\n",
    "print(x)\n",
    "y = __split(x, 30)\n",
    "print(y)"
   ]
  },
  {
   "cell_type": "code",
   "execution_count": 3,
   "metadata": {},
   "outputs": [
    {
     "data": {
      "text/plain": [
       "[<matplotlib.lines.Line2D at 0x1d40e4c94e0>]"
      ]
     },
     "execution_count": 3,
     "metadata": {},
     "output_type": "execute_result"
    },
    {
     "data": {
      "image/png": "[encoded data removed]",
      "text/plain": [
       "<Figure size 432x288 with 1 Axes>"
      ]
     },
     "metadata": {
      "needs_background": "light"
     },
     "output_type": "display_data"
    }
   ],
   "source": [
    "f = np.atleast_2d(np.linspace(-0.5, 0.5, num = 50))\n",
    "K = 3\n",
    "#x = np.arange(50)\n",
    "Pavg = avg_per(x, f, K)\n",
    "#print(Pavg)\n",
    "\n",
    "#print(x)\n",
    "(fig1, ax1) = plt.subplots(1,1)\n",
    "ax1.set_title('Periodogram usrednjeni')\n",
    "ax1.set_ylabel('$\\hat{P}_{AVPER}(f)$')\n",
    "ax1.set_xlabel('$f$')\n",
    "\n",
    "f = np.concatenate(f)\n",
    "ax1.plot(f, Pavg)"
   ]
  },
  {
   "cell_type": "code",
   "execution_count": 4,
   "metadata": {},
   "outputs": [],
   "source": [
    "Nr = 1000\n",
    "N = 5\n",
    "f = 0.15\n",
    "K = 2\n",
    "Pavper = []\n",
    "for i in range(Nr):\n",
    "    x = np.random.standard_normal(size = (N, 1))\n",
    "    Pavper.append(avg_per(x, f, K))\n"
   ]
  },
  {
   "cell_type": "code",
   "execution_count": 5,
   "metadata": {},
   "outputs": [
    {
     "data": {
      "text/plain": [
       "Text(0.5, 0.95, '$\\\\mu=1.00$\\n$\\\\sigma=0.77$')"
      ]
     },
     "execution_count": 5,
     "metadata": {},
     "output_type": "execute_result"
    },
    {
     "data": {
      "image/png": "[encoded data removed]",
      "text/plain": [
       "<Figure size 432x288 with 1 Axes>"
      ]
     },
     "metadata": {
      "needs_background": "light"
     },
     "output_type": "display_data"
    }
   ],
   "source": [
    "import seaborn as sns\n",
    "\n",
    "estimations = np.concatenate(Pavper)\n",
    "\n",
    "\n",
    "\n",
    "\n",
    "estimations.sort()\n",
    "\n",
    "q75, q25 = np.percentile(estimations, [75 ,25])\n",
    "IQR = q75 - q25\n",
    "\n",
    "SIZE = len(estimations)\n",
    "MAX = estimations[SIZE-1]\n",
    "MIN = estimations[0]\n",
    "\n",
    "k = 2*IQR*(SIZE**(-1/3))\n",
    "\n",
    "\n",
    "(fig1, ax1) = plt.subplots(1,1)\n",
    "\n",
    "sns.histplot(estimations, bins = int((MAX - MIN)/k))\n",
    "\n",
    "ax1.set_title('Histogram estimacija $\\hat{P}_{PER}(f)$')\n",
    "ax1.set_ylabel(' ')\n",
    "ax1.set_xlabel('$n$')\n",
    "\n",
    "\n",
    "\n",
    "mean = np.mean(estimations)\n",
    "var = np.var(estimations, ddof = 1)\n",
    "\n",
    "\n",
    "textstr = '\\n'.join((\n",
    "    r'$\\mu=%.2f$' % (mean, ),\n",
    "    r'$\\sigma=%.2f$' % (np.sqrt(var), )))\n",
    "\n",
    "# these are matplotlib.patch.Patch properties\n",
    "props = dict(boxstyle='round', facecolor='wheat', alpha=0.5)\n",
    "\n",
    "# place a text box in upper left in axes coords\n",
    "ax1.text(0.5, 0.95, textstr, transform=ax1.transAxes, fontsize=14,\n",
    "        verticalalignment='top', bbox=props)\n",
    "\n",
    "\n",
    "\n"
   ]
  },
  {
   "cell_type": "code",
   "execution_count": 6,
   "metadata": {},
   "outputs": [],
   "source": [
    "Nr = 1000\n",
    "N = 16\n",
    "f = 0.15\n",
    "K = 2\n",
    "n = np.arange(N)\n",
    "Pavper = []\n",
    "Pper = []\n",
    "for i in range(Nr):\n",
    "    e = np.random.standard_normal(size = (1, N))\n",
    "    fi = np.random.uniform(low = 0.0, high = 2*np.pi)\n",
    "    x = np.sin(2*np.pi*n*0.2 + fi) + e\n",
    "    Pavper.append(avg_per(x, f, K))\n",
    "    Pper.append(per(x, f))\n",
    "    \n",
    "    \n",
    "\n"
   ]
  },
  {
   "cell_type": "code",
   "execution_count": 7,
   "metadata": {},
   "outputs": [
    {
     "data": {
      "text/plain": [
       "Text(0.5, 0.95, '$\\\\mu=1.25$\\n$\\\\sigma=1.27$')"
      ]
     },
     "execution_count": 7,
     "metadata": {},
     "output_type": "execute_result"
    },
    {
     "data": {
      "image/png": "[encoded data removed]",
      "text/plain": [
       "<Figure size 432x288 with 1 Axes>"
      ]
     },
     "metadata": {
      "needs_background": "light"
     },
     "output_type": "display_data"
    },
    {
     "data": {
      "image/png": "[encoded data removed]",
      "text/plain": [
       "<Figure size 432x288 with 1 Axes>"
      ]
     },
     "metadata": {
      "needs_background": "light"
     },
     "output_type": "display_data"
    }
   ],
   "source": [
    "import seaborn as sns\n",
    "\n",
    "estimations = np.concatenate(Pavper)\n",
    "\n",
    "\n",
    "\n",
    "\n",
    "estimations.sort()\n",
    "\n",
    "q75, q25 = np.percentile(estimations, [75 ,25])\n",
    "IQR = q75 - q25\n",
    "\n",
    "SIZE = len(estimations)\n",
    "MAX = estimations[SIZE-1]\n",
    "MIN = estimations[0]\n",
    "\n",
    "k = 2*IQR*(SIZE**(-1/3))\n",
    "\n",
    "\n",
    "(fig1, ax1) = plt.subplots(1,1)\n",
    "\n",
    "sns.histplot(estimations, bins = int((MAX - MIN)/k))\n",
    "\n",
    "ax1.set_title('Histogram estimacija $\\hat{P}_{AVPER}(f)$')\n",
    "ax1.set_ylabel(' ')\n",
    "ax1.set_xlabel('$n$')\n",
    "\n",
    "\n",
    "\n",
    "mean = np.mean(estimations)\n",
    "var = np.var(estimations, ddof = 1)\n",
    "\n",
    "\n",
    "textstr = '\\n'.join((\n",
    "    r'$\\mu=%.2f$' % (mean, ),\n",
    "    r'$\\sigma=%.2f$' % (np.sqrt(var), )))\n",
    "\n",
    "# these are matplotlib.patch.Patch properties\n",
    "props = dict(boxstyle='round', facecolor='wheat', alpha=0.5)\n",
    "\n",
    "# place a text box in upper left in axes coords\n",
    "ax1.text(0.5, 0.95, textstr, transform=ax1.transAxes, fontsize=14,\n",
    "        verticalalignment='top', bbox=props)\n",
    "\n",
    "\n",
    "import seaborn as sns\n",
    "\n",
    "estimations = np.concatenate(Pper)\n",
    "\n",
    "\n",
    "\n",
    "\n",
    "estimations.sort()\n",
    "\n",
    "q75, q25 = np.percentile(estimations, [75 ,25])\n",
    "IQR = q75 - q25\n",
    "\n",
    "SIZE = len(estimations)\n",
    "MAX = estimations[SIZE-1]\n",
    "MIN = estimations[0]\n",
    "\n",
    "k = 2*IQR*(SIZE**(-1/3))\n",
    "\n",
    "\n",
    "(fig1, ax1) = plt.subplots(1,1)\n",
    "\n",
    "sns.histplot(estimations, bins = int((MAX - MIN)/k))\n",
    "\n",
    "ax1.set_title('Histogram estimacija $\\hat{P}_{PER}(f)$')\n",
    "ax1.set_ylabel(' ')\n",
    "ax1.set_xlabel('$n$')\n",
    "\n",
    "\n",
    "\n",
    "mean = np.mean(estimations)\n",
    "var = np.var(estimations, ddof = 1)\n",
    "\n",
    "\n",
    "textstr = '\\n'.join((\n",
    "    r'$\\mu=%.2f$' % (mean, ),\n",
    "    r'$\\sigma=%.2f$' % (np.sqrt(var), )))\n",
    "\n",
    "# these are matplotlib.patch.Patch properties\n",
    "props = dict(boxstyle='round', facecolor='wheat', alpha=0.5)\n",
    "\n",
    "# place a text box in upper left in axes coords\n",
    "ax1.text(0.5, 0.95, textstr, transform=ax1.transAxes, fontsize=14,\n",
    "        verticalalignment='top', bbox=props)\n",
    "\n",
    "\n",
    "\n",
    "\n",
    "\n"
   ]
  },
  {
   "cell_type": "code",
   "execution_count": 8,
   "metadata": {},
   "outputs": [
    {
     "data": {
      "text/plain": [
       "<matplotlib.legend.Legend at 0x1d404558e10>"
      ]
     },
     "execution_count": 8,
     "metadata": {},
     "output_type": "execute_result"
    },
    {
     "name": "stderr",
     "output_type": "stream",
     "text": [
      "findfont: Font family ['Helvetica'] not found. Falling back to DejaVu Sans.\n"
     ]
    },
    {
     "data": {
      "image/png": "[encoded data removed]",
      "text/plain": [
       "<Figure size 432x288 with 2 Axes>"
      ]
     },
     "metadata": {
      "needs_background": "light"
     },
     "output_type": "display_data"
    }
   ],
   "source": [
    "Nr = 50\n",
    "N = 49\n",
    "f = np.linspace(0, 0.5, 50)\n",
    "K = [1, 2, 4]\n",
    "n = np.arange(N)\n",
    "Pavper = []\n",
    "Pper = []\n",
    "Pall = []\n",
    "for j in range(len(K)):\n",
    "    Pavper = []\n",
    "    for i in range(Nr):\n",
    "        e = np.random.standard_normal(size = (1, N))\n",
    "        fi1 = np.random.uniform(low = 0.0, high = 2*np.pi)\n",
    "        fi2 = np.random.uniform(low = 0.0, high = 2*np.pi)\n",
    "        x = np.sin(2*np.pi*n*0.22 + fi1) + np.sin(2*np.pi*n*0.28 + fi2) + e\n",
    "        Pavper.append(avg_per(x, f, K[j]))\n",
    "    Pall.append(Pavper)\n",
    "    \n",
    "(fig1, (ax1, ax2)) = plt.subplots(1, 2)\n",
    "ax1.set_title('Primena zatvaranja prozora, sr vr')\n",
    "ax1.set_ylabel(' ')\n",
    "ax1.set_xlabel('$f$')\n",
    "\n",
    "ax2.set_title('S.T.D')\n",
    "ax2.set_ylabel(' ')\n",
    "ax2.set_xlabel('$f$')\n",
    "\n",
    "\n",
    "\n",
    "for i in range(len(K)):\n",
    "    \n",
    "    \n",
    "    suma = 0\n",
    "    Pmean = []\n",
    "    var = 0 \n",
    "    Pvar = []\n",
    "    for j in range(len(f)):\n",
    "        for k in range(Nr):\n",
    "            suma = suma + Pall[i][k][j]\n",
    "        suma = suma/Nr\n",
    "        for k in range(Nr):\n",
    "            var = var +  (Pall[i][k][j] - suma)**2\n",
    "        var = var/(Nr-1)\n",
    "        var = np.sqrt(var)\n",
    "        Pmean.append(suma)\n",
    "        Pvar.append(var)\n",
    "        \n",
    "    ax1.plot(f, Pmean, label = f\"K = {K[i]}\")\n",
    "    ax2.plot(f, Pvar, label = f\"K = {K[i]}\")\n",
    "    \n",
    "\n",
    "fig1.tight_layout()\n",
    "plt.legend(loc=\"upper right\")\n",
    "ax1.legend(loc = \"upper right\")\n",
    "    \n",
    "     \n",
    "    \n",
    "        \n",
    "    \n",
    "    \n",
    "\n"
   ]
  },
  {
   "cell_type": "code",
   "execution_count": 9,
   "metadata": {},
   "outputs": [],
   "source": [
    "from scipy.stats import chi2\n",
    "Nr = 200\n",
    "K = 2\n",
    "N = 10\n",
    "f = 0.25\n",
    "Pavg = []\n",
    "\n",
    "for j in range(Nr):\n",
    "    x = np.zeros((N, 1))\n",
    "    x[0] = np.random.standard_normal()\n",
    "    \n",
    "    for i in range(N-1):\n",
    "        x[i + 1] = 0.6*x[i] + np.random.standard_normal()\n",
    "        \n",
    "    Pavg.append(avg_per(x, f, K))\n",
    "    \n",
    "\n",
    "    \n",
    "Preal = 1/(1.36 - 1.2*np.cos(2*np.pi*f ))\n",
    "errordB = []\n",
    "for i in range (Nr):\n",
    "    errordB.append(10*np.log10(Preal) - 10*np.log10(Pavg[i][0]))\n",
    "\n",
    "aplha = 0.05\n",
    "\n",
    "import scipy.stats as stats\n",
    "                \n",
    "upper = 10*np.log10(2*K/stats.chi2.ppf(df=2*K, q=aplha/2))\n",
    "lower =10*np.log10(stats.chi2.ppf(df=2*K, q=1 - aplha/2)/2/K)\n",
    "    \n",
    "    "
   ]
  },
  {
   "cell_type": "code",
   "execution_count": 10,
   "metadata": {},
   "outputs": [
    {
     "data": {
      "text/plain": [
       "[<matplotlib.lines.Line2D at 0x1d41135b908>]"
      ]
     },
     "execution_count": 10,
     "metadata": {},
     "output_type": "execute_result"
    },
    {
     "data": {
      "image/png": "[encoded data removed]",
      "text/plain": [
       "<Figure size 432x288 with 1 Axes>"
      ]
     },
     "metadata": {
      "needs_background": "light"
     },
     "output_type": "display_data"
    }
   ],
   "source": [
    "import seaborn as sns\n",
    "\n",
    "estimations = errordB\n",
    "\n",
    "\n",
    "\n",
    "\n",
    "estimations.sort()\n",
    "\n",
    "q75, q25 = np.percentile(estimations, [75 ,25])\n",
    "IQR = q75 - q25\n",
    "\n",
    "SIZE = len(estimations)\n",
    "MAX = estimations[SIZE-1]\n",
    "MIN = estimations[0]\n",
    "\n",
    "k = 2*IQR*(SIZE**(-1/3))\n",
    "\n",
    "\n",
    "(fig1, ax1) = plt.subplots(1,1)\n",
    "\n",
    "sns.histplot(estimations, bins = int((MAX - MIN)/k))\n",
    "\n",
    "ax1.set_title('Histogram estimacija $\\hat{P}_{PER}(f)$')\n",
    "ax1.set_ylabel(' ')\n",
    "ax1.set_xlabel('$n$')\n",
    "\n",
    "\n",
    "\n",
    "mean = np.mean(estimations)\n",
    "var = np.var(estimations, ddof = 1)\n",
    "\n",
    "\n",
    "textstr = '\\n'.join((\n",
    "    r'$\\mu=%.2f$' % (mean, ),\n",
    "    r'$\\sigma=%.2f$' % (np.sqrt(var), )))\n",
    "\n",
    "# these are matplotlib.patch.Patch properties\n",
    "props = dict(boxstyle='round', facecolor='wheat', alpha=0.5)\n",
    "\n",
    "# place a text box in upper left in axes coords\n",
    "ax1.text(0.5, 0.95, textstr, transform=ax1.transAxes, fontsize=14,\n",
    "        verticalalignment='top', bbox=props)\n",
    "\n",
    "plt.plot([mean +upper, mean + upper], [0, 35])\n",
    "plt.plot([mean - lower, mean - lower], [0, 35])\n",
    "\n",
    "\n",
    "\n"
   ]
  },
  {
   "cell_type": "code",
   "execution_count": 11,
   "metadata": {},
   "outputs": [
    {
     "data": {
      "text/plain": [
       "<matplotlib.collections.PolyCollection at 0x1d4113e7d68>"
      ]
     },
     "execution_count": 11,
     "metadata": {},
     "output_type": "execute_result"
    },
    {
     "data": {
      "image/png": "[encoded data removed]",
      "text/plain": [
       "<Figure size 432x288 with 1 Axes>"
      ]
     },
     "metadata": {
      "needs_background": "light"
     },
     "output_type": "display_data"
    }
   ],
   "source": [
    "f = np.linspace(0, 0.5, 50)\n",
    "K = 100\n",
    "N = 1000\n",
    "x = np.zeros((N, 1))\n",
    "x[0] = np.random.standard_normal()\n",
    "    \n",
    "for i in range(N-1):\n",
    "    x[i + 1] = 0.6*x[i] + np.random.standard_normal()\n",
    "        \n",
    "Pavg = 10*np.log10(avg_per(x, f, K))\n",
    "Preal = 10*np.log10(1/(1.36 - 1.2*np.cos(2*np.pi*f )))\n",
    "\n",
    "upper = 10*np.log10(2*K/stats.chi2.ppf(df=2*K, q=aplha/2))\n",
    "lower =10*np.log10(stats.chi2.ppf(df=2*K, q=1 - aplha/2)/2/K)\n",
    "    \n",
    "fig, ax = plt.subplots()\n",
    "ax.plot(f,Pavg)\n",
    "ax.plot(f, Preal)\n",
    "ax.fill_between(f, (Pavg-lower), (Pavg+upper), color='b', alpha=.1)"
   ]
  }
 ],
 "metadata": {
  "kernelspec": {
   "display_name": "Python 3 (ipykernel)",
   "language": "python",
   "name": "python3"
  },
  "language_info": {
   "codemirror_mode": {
    "name": "ipython",
    "version": 3
   },
   "file_extension": ".py",
   "mimetype": "text/x-python",
   "name": "python",
   "nbconvert_exporter": "python",
   "pygments_lexer": "ipython3",
   "version": "3.7.15"
  }
 },
 "nbformat": 4,
 "nbformat_minor": 4
}
