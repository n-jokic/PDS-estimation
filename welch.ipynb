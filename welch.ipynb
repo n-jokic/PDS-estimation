{
 "cells": [
  {
   "cell_type": "code",
   "execution_count": 30,
   "metadata": {},
   "outputs": [],
   "source": [
    "\n",
    "USE_WIDGETS = True\n",
    "\n",
    "import csv as csv\n",
    "\n",
    "\n",
    "if USE_WIDGETS:\n",
    "    %matplotlib widget\n",
    "else:\n",
    "    %matplotlib inline\n",
    "    \n",
    "import matplotlib as mpl\n",
    "\n",
    "import matplotlib.pyplot as plt\n",
    "\n",
    "\n",
    "\n",
    "\n",
    "import numpy as np\n",
    "import matplotlib.pyplot as plt\n",
    "\n",
    "\n",
    "import scipy\n",
    "\n",
    "plt.rcParams.update({\n",
    "  \"text.usetex\": True,\n",
    "  \"font.family\": \"Helvetica\",\n",
    "  \"figure.max_open_warning\" : 1000,\n",
    "  \"font.size\": 10\n",
    "})\n",
    "\n",
    "def shift(xs, n, num):\n",
    "    \n",
    "    e = np.empty_like(xs)\n",
    "    if(xs.ndim == 2):\n",
    "        a, b = xs.shape\n",
    "        if(b > a):\n",
    "            if n >= 0:\n",
    "                e[0][:n] = num\n",
    "                e[0][n:] = xs[0][:-n]\n",
    "            else:\n",
    "                e[0][n:] = num\n",
    "                e[0][:n] = xs[0][-n:]\n",
    "        else:\n",
    "            if n >= 0:\n",
    "                e[:n][0] = num\n",
    "                e[n:][0] = xs[:-n][0]\n",
    "            else:\n",
    "                e[n:][0] = num\n",
    "                e[:n][0] = xs[-n:][0]\n",
    "            \n",
    "    \n",
    "    else:\n",
    "        if n >= 0:\n",
    "            e[:n] = num\n",
    "            e[n:] = xs[:-n]\n",
    "        else:\n",
    "            e[n:] = num\n",
    "            e[:n] = xs[-n:]\n",
    "    return e\n",
    "\n",
    "def ACF(x):\n",
    "    \n",
    "\n",
    "    if(x.ndim == 1):\n",
    "        x = np.atleast_2d(x)\n",
    "    \n",
    "    b, N = x.shape\n",
    "    if(b > N):\n",
    "        N = b\n",
    "        x = np.transpose(x)\n",
    "    \n",
    "    xt = np.conjugate(x)\n",
    "\n",
    "    xt_c = np.transpose(x)\n",
    "\n",
    "    \n",
    "    r = np.zeros((2*N - 1, 1), dtype = complex)\n",
    "    \n",
    "    \n",
    "    for k in range(N):\n",
    "        r[N-1 + k] = xt @ xt_c / N\n",
    "        xt[0][N-(1 + k)] = 0 #x = [x*[0] ... x*[N-1 -k] 0 ... 0]\n",
    "        xt_c = np.roll(xt_c, -1) #x = [x[k] x[k+1] ... x[N-1] x[0] ... x[k-1]]\n",
    "    \n",
    "    for k in range(N):\n",
    "        r[k] = np.conjugate(r[-(1 + k)])\n",
    "        \n",
    "    return np.concatenate(r)\n",
    "     \n",
    "\n",
    "    \n",
    "\n",
    "    \n"
   ]
  },
  {
   "cell_type": "code",
   "execution_count": 82,
   "metadata": {},
   "outputs": [],
   "source": [
    "import csv as csv\n",
    "file = open('P01_test_sekvenca_1.csv')\n",
    "filename = 'P01_test_sekvenca_1.csv'\n",
    "\n",
    "csvreader = csv.reader(file)\n",
    "\n",
    "x = np.array([])\n",
    "for row in csvreader:\n",
    "        x = np.append(x, complex(row[0]))\n",
    "\n",
    "\n",
    "file.close()\n"
   ]
  },
  {
   "cell_type": "code",
   "execution_count": 87,
   "metadata": {},
   "outputs": [
    {
     "data": {
      "application/vnd.jupyter.widget-view+json": {
       "model_id": "7eee00f963af4f97a0f8ffeb0b9f227a",
       "version_major": 2,
       "version_minor": 0
      },
      "text/plain": [
       "Canvas(toolbar=Toolbar(toolitems=[('Home', 'Reset original view', 'home', 'home'), ('Back', 'Back to previous …"
      ]
     },
     "metadata": {},
     "output_type": "display_data"
    }
   ],
   "source": [
    "r = ACF(x)\n",
    "N = (len(r) - 1)//2\n",
    "\n",
    "r_r = np.real(r)\n",
    "r_i = np.imag(r)\n",
    "n = np.arange(len(r)) - (len(r) - 1)//2\n",
    "k = 10\n",
    "n = np.arange(-k, k + 1)\n",
    "\n",
    "(fig1, (ax1, ax2)) = plt.subplots(2,1)\n",
    "ax1.set_title('Pomerena procena ACF')\n",
    "ax1.set_ylabel('$Re\\hat{r}_{xx}[k]$')\n",
    "ax1.set_xlabel('$n$')\n",
    "\n",
    "\n",
    "\n",
    "ax1.plot(n, r_r[N-1 - k + 1 : N-1 + k + 2])\n",
    "\n",
    "\n",
    "ax2.set_ylabel('$Im\\hat{r}_{xx}[k]$')\n",
    "ax2.set_xlabel('$n$')\n",
    "ax2.plot(n, r_i[N-1 - k + 1: N-1 + k + 2])\n",
    "\n",
    "fig1.tight_layout()"
   ]
  },
  {
   "cell_type": "code",
   "execution_count": 102,
   "metadata": {},
   "outputs": [],
   "source": [
    "def FT_ACF(x, f):\n",
    "    N = (len(x)-1)//2\n",
    "    n = np.atleast_2d(np.arange(-N, N+1))\n",
    "    xt = np.atleast_2d(x)\n",
    "    ft = np.atleast_2d(f)\n",
    "    \n",
    "   \n",
    "    \n",
    "    #we neeed x in form n x 1\n",
    "    a, b= xt.shape\n",
    "    if(b > a):\n",
    "        xt = np.transpose(xt)\n",
    "        \n",
    "    #We need ft in form m x 1\n",
    "    a, b = ft.shape\n",
    "    if(b > a):\n",
    "        ft = np.transpose(ft)\n",
    "\n",
    "    Wn = np.exp(-2j*np.pi*(ft @ n))\n",
    "    \n",
    "    X = Wn @ xt\n",
    "\n",
    "    return X\n",
    "\n",
    "def perBT(x, w, f):\n",
    "\n",
    "    \n",
    "    r = ACF(x)\n",
    "\n",
    "    N = len(r)\n",
    "    M = len(w)\n",
    "    #mora da vazi M mod 2 == 1!\n",
    "    k = (N-M)//2\n",
    " \n",
    "    w = np.pad(w, (k, k), 'constant')\n",
    "  \n",
    "    #print(N, M)\n",
    "    #print(w)\n",
    "    #print(r)\n",
    "  \n",
    "\n",
    "    X = FT_ACF(r*w, f)\n",
    "    \n",
    "    Pper = np.real(X)\n",
    "    \n",
    "    return np.concatenate(Pper)\n",
    "\n",
    "def FT(x, f):\n",
    "    N = len(x)\n",
    "    n = np.atleast_2d(np.arange(N))\n",
    "    xt = np.atleast_2d(x)\n",
    "    ft = np.atleast_2d(f)\n",
    "    \n",
    "   \n",
    "    \n",
    "    #we neeed x in form n x 1\n",
    "    a, b= xt.shape\n",
    "    if(b > a):\n",
    "        xt = np.transpose(xt)\n",
    "        \n",
    "    #We need ft in form m x 1\n",
    "    a, b = ft.shape\n",
    "    if(b > a):\n",
    "        ft = np.transpose(ft)\n",
    "\n",
    "    Wn = np.exp(-2j*np.pi*(ft @ n))\n",
    "    \n",
    "    X = Wn @ xt\n",
    "\n",
    "    return X\n",
    "\n",
    "def per(x, f):\n",
    "    if(x.ndim == 2):\n",
    "        x = np.concatenate(x)\n",
    "    \n",
    "    N = len(x)\n",
    "\n",
    "    X = FT(x, f)\n",
    "    \n",
    "    Pper = np.power(np.abs(X), 2)/N\n",
    "    \n",
    "    return np.concatenate(Pper)"
   ]
  },
  {
   "cell_type": "code",
   "execution_count": 94,
   "metadata": {},
   "outputs": [
    {
     "data": {
      "application/vnd.jupyter.widget-view+json": {
       "model_id": "72c6a1c1c47f432da2b640141abaa4dd",
       "version_major": 2,
       "version_minor": 0
      },
      "text/plain": [
       "Canvas(toolbar=Toolbar(toolitems=[('Home', 'Reset original view', 'home', 'home'), ('Back', 'Back to previous …"
      ]
     },
     "metadata": {},
     "output_type": "display_data"
    },
    {
     "data": {
      "text/plain": [
       "[<matplotlib.lines.Line2D at 0x188ee88b390>]"
      ]
     },
     "execution_count": 94,
     "metadata": {},
     "output_type": "execute_result"
    }
   ],
   "source": [
    "f = np.atleast_2d(np.linspace(-0.5, 0.5, num = 50))\n",
    "M = 21\n",
    "w = np.bartlett(M)\n",
    "\n",
    "\n",
    "\n",
    "Pbt = perBT(x, w, f)\n",
    "#print(x)\n",
    "(fig1, ax1) = plt.subplots(1,1)\n",
    "ax1.set_title('Periodogram BT')\n",
    "ax1.set_ylabel('$\\hat{P}_{bt}(f)$')\n",
    "ax1.set_xlabel('$f$')\n",
    "\n",
    "f = np.concatenate(f)\n",
    "ax1.plot(f, Pbt)"
   ]
  },
  {
   "cell_type": "code",
   "execution_count": null,
   "metadata": {},
   "outputs": [],
   "source": []
  },
  {
   "cell_type": "code",
   "execution_count": 103,
   "metadata": {},
   "outputs": [],
   "source": [
    "Nr = 1000\n",
    "N = 16\n",
    "f = 0.15\n",
    "K = 2\n",
    "Pbt = []\n",
    "M = 11\n",
    "w = np.bartlett(M)\n",
    "n = np.arange(N)\n",
    "Per = []\n",
    "\n",
    "for i in range(Nr):\n",
    "    e = np.random.standard_normal(size = (1, N))\n",
    "    fi = np.random.uniform(low = 0.0, high = 2*np.pi)\n",
    "    x = np.sin(2*np.pi*n*0.2 + fi) + e\n",
    "    Pbt.append(perBT(x, w, f))\n",
    "    Per.append(per(x, f))\n",
    "\n",
    "\n"
   ]
  },
  {
   "cell_type": "code",
   "execution_count": 106,
   "metadata": {},
   "outputs": [
    {
     "data": {
      "application/vnd.jupyter.widget-view+json": {
       "model_id": "182eea1768b843a7b64de476cb0a8025",
       "version_major": 2,
       "version_minor": 0
      },
      "text/plain": [
       "Canvas(toolbar=Toolbar(toolitems=[('Home', 'Reset original view', 'home', 'home'), ('Back', 'Back to previous …"
      ]
     },
     "metadata": {},
     "output_type": "display_data"
    },
    {
     "data": {
      "application/vnd.jupyter.widget-view+json": {
       "model_id": "4e70407ad5354e7f86161753b72beda9",
       "version_major": 2,
       "version_minor": 0
      },
      "text/plain": [
       "Canvas(toolbar=Toolbar(toolitems=[('Home', 'Reset original view', 'home', 'home'), ('Back', 'Back to previous …"
      ]
     },
     "metadata": {},
     "output_type": "display_data"
    },
    {
     "data": {
      "text/plain": [
       "Text(0.5, 0.95, '$\\\\mu=1.21$\\n$\\\\sigma=1.22$')"
      ]
     },
     "execution_count": 106,
     "metadata": {},
     "output_type": "execute_result"
    }
   ],
   "source": [
    "import seaborn as sns\n",
    "\n",
    "estimations = np.concatenate(Pbt)\n",
    "\n",
    "\n",
    "\n",
    "\n",
    "estimations.sort()\n",
    "\n",
    "q75, q25 = np.percentile(estimations, [75 ,25])\n",
    "IQR = q75 - q25\n",
    "\n",
    "SIZE = len(estimations)\n",
    "MAX = estimations[SIZE-1]\n",
    "MIN = estimations[0]\n",
    "\n",
    "k = 2*IQR*(SIZE**(-1/3))\n",
    "\n",
    "\n",
    "(fig1, ax1) = plt.subplots(1,1)\n",
    "\n",
    "sns.histplot(estimations, bins = int((MAX - MIN)/k))\n",
    "\n",
    "ax1.set_title('Histogram estimacija $\\hat{P}_{bt}(f)$')\n",
    "ax1.set_ylabel(' ')\n",
    "ax1.set_xlabel('$n$')\n",
    "\n",
    "\n",
    "\n",
    "mean = np.mean(estimations)\n",
    "var = np.var(estimations, ddof = 1)\n",
    "\n",
    "\n",
    "textstr = '\\n'.join((\n",
    "    r'$\\mu=%.2f$' % (mean, ),\n",
    "    r'$\\sigma=%.2f$' % (np.sqrt(var), )))\n",
    "\n",
    "# these are matplotlib.patch.Patch properties\n",
    "props = dict(boxstyle='round', facecolor='wheat', alpha=0.5)\n",
    "\n",
    "# place a text box in upper left in axes coords\n",
    "ax1.text(0.5, 0.95, textstr, transform=ax1.transAxes, fontsize=14,\n",
    "        verticalalignment='top', bbox=props)\n",
    "\n",
    "estimations = np.concatenate(Per)\n",
    "\n",
    "\n",
    "estimations.sort()\n",
    "\n",
    "q75, q25 = np.percentile(estimations, [75 ,25])\n",
    "IQR = q75 - q25\n",
    "\n",
    "SIZE = len(estimations)\n",
    "MAX = estimations[SIZE-1]\n",
    "MIN = estimations[0]\n",
    "\n",
    "k = 2*IQR*(SIZE**(-1/3))\n",
    "\n",
    "\n",
    "(fig1, ax1) = plt.subplots(1,1)\n",
    "\n",
    "sns.histplot(estimations, bins = int((MAX - MIN)/k))\n",
    "\n",
    "ax1.set_title('Histogram estimacija $\\hat{P}_{bt}(f)$')\n",
    "ax1.set_ylabel(' ')\n",
    "ax1.set_xlabel('$n$')\n",
    "\n",
    "\n",
    "\n",
    "mean = np.mean(estimations)\n",
    "var = np.var(estimations, ddof = 1)\n",
    "\n",
    "\n",
    "textstr = '\\n'.join((\n",
    "    r'$\\mu=%.2f$' % (mean, ),\n",
    "    r'$\\sigma=%.2f$' % (np.sqrt(var), )))\n",
    "\n",
    "# these are matplotlib.patch.Patch properties\n",
    "props = dict(boxstyle='round', facecolor='wheat', alpha=0.5)\n",
    "\n",
    "# place a text box in upper left in axes coords\n",
    "ax1.text(0.5, 0.95, textstr, transform=ax1.transAxes, fontsize=14,\n",
    "        verticalalignment='top', bbox=props)\n",
    "\n",
    "\n",
    "\n"
   ]
  },
  {
   "cell_type": "code",
   "execution_count": 112,
   "metadata": {},
   "outputs": [
    {
     "data": {
      "application/vnd.jupyter.widget-view+json": {
       "model_id": "909819b66dfa44c4a5b80eb598e3ce1b",
       "version_major": 2,
       "version_minor": 0
      },
      "text/plain": [
       "Canvas(toolbar=Toolbar(toolitems=[('Home', 'Reset original view', 'home', 'home'), ('Back', 'Back to previous …"
      ]
     },
     "metadata": {},
     "output_type": "display_data"
    },
    {
     "data": {
      "text/plain": [
       "<matplotlib.legend.Legend at 0x188f2bf1278>"
      ]
     },
     "execution_count": 112,
     "metadata": {},
     "output_type": "execute_result"
    }
   ],
   "source": [
    "import scipy.signal as sig\n",
    "\n",
    "\n",
    "Nr = 50\n",
    "N = 49\n",
    "f = np.linspace(0, 0.5, 50)\n",
    "K = [21, 49, 95]\n",
    "n = np.arange(N)\n",
    "Pbt= []\n",
    "\n",
    "Pall = []\n",
    "for j in range(len(K)):\n",
    "    w = sig.parzen(K[j])\n",
    "    Pbt = []\n",
    "    for i in range(Nr):\n",
    "        e = np.random.standard_normal(size = (1, N))\n",
    "        fi1 = np.random.uniform(low = 0.0, high = 2*np.pi)\n",
    "        fi2 = np.random.uniform(low = 0.0, high = 2*np.pi)\n",
    "        x = np.sin(2*np.pi*n*0.2 + fi1) + np.sin(2*np.pi*n*0.3 + fi2) + e\n",
    "        Pbt.append(perBT(x, w,f))\n",
    "    Pall.append(Pbt)\n",
    "    \n",
    "(fig1, (ax1, ax2)) = plt.subplots(2, 1)\n",
    "ax1.set_title('Primena zatvaranja prozora, sr vr')\n",
    "ax1.set_ylabel(' ')\n",
    "ax1.set_xlabel('$f$')\n",
    "\n",
    "ax2.set_title('S.T.D')\n",
    "ax2.set_ylabel(' ')\n",
    "ax2.set_xlabel('$f$')\n",
    "\n",
    "\n",
    "\n",
    "for i in range(len(K)):\n",
    "    \n",
    "    \n",
    "    suma = 0\n",
    "    Pmean = []\n",
    "    var = 0 \n",
    "    Pvar = []\n",
    "    for j in range(len(f)):\n",
    "        for k in range(Nr):\n",
    "            suma = suma + Pall[i][k][j]\n",
    "        suma = suma/Nr\n",
    "        for k in range(Nr):\n",
    "            var = var +  (Pall[i][k][j] - suma)**2\n",
    "        var = var/(Nr-1)\n",
    "        var = np.sqrt(var)\n",
    "        Pmean.append(suma)\n",
    "        Pvar.append(var)\n",
    "        \n",
    "    ax1.plot(f, Pmean, label = f\"M = {(K[i] - 1)//2}\")\n",
    "    ax2.plot(f, Pvar, label = f\"M = {(K[i] - 1)//2}\")\n",
    "    \n",
    "\n",
    "fig1.tight_layout()\n",
    "plt.legend(loc=\"upper right\")\n",
    "ax1.legend(loc = \"upper right\")\n",
    "    \n",
    "     \n",
    "    \n",
    "        \n",
    "    \n",
    "    \n",
    "\n"
   ]
  },
  {
   "cell_type": "code",
   "execution_count": 118,
   "metadata": {},
   "outputs": [],
   "source": [
    "from scipy.stats import chi2\n",
    "Nr = 200\n",
    "K = 2\n",
    "f = 0.25\n",
    "Pavg = []\n",
    "M = 8\n",
    "N = 2*M\n",
    "w = np.bartlett(2*M+1)\n",
    "\n",
    "for j in range(Nr):\n",
    "    x = np.zeros((N, 1))\n",
    "    x[0] = np.random.standard_normal()\n",
    "    \n",
    "    for i in range(N-1):\n",
    "        x[i + 1] = 0.6*x[i] + np.random.standard_normal()\n",
    "        \n",
    "    Pavg.append(perBT(x, w, f))\n",
    "    \n",
    "\n",
    "    \n",
    "Preal = 1/(1.36 - 1.2*np.cos(2*np.pi*f ))\n",
    "errordB = []\n",
    "\n",
    "v = (2*N)/sum(np.power(w, 2))\n",
    "for i in range (Nr):\n",
    "    errordB.append(10*np.log10(Preal) - 10*np.log10(Pavg[i][0]))\n",
    "\n",
    "aplha = 0.05\n",
    "\n",
    "import scipy.stats as stats\n",
    "                \n",
    "upper = 10*np.log10(v/stats.chi2.ppf(df=v, q=aplha/2))\n",
    "lower =10*np.log10(stats.chi2.ppf(df=v, q=1 - aplha/2)/v)\n",
    "    \n",
    "    "
   ]
  },
  {
   "cell_type": "code",
   "execution_count": 120,
   "metadata": {},
   "outputs": [
    {
     "data": {
      "application/vnd.jupyter.widget-view+json": {
       "model_id": "8f5e157efda94a2ab15466f3e642e594",
       "version_major": 2,
       "version_minor": 0
      },
      "text/plain": [
       "Canvas(toolbar=Toolbar(toolitems=[('Home', 'Reset original view', 'home', 'home'), ('Back', 'Back to previous …"
      ]
     },
     "metadata": {},
     "output_type": "display_data"
    },
    {
     "data": {
      "text/plain": [
       "[<matplotlib.lines.Line2D at 0x188f5a54588>]"
      ]
     },
     "execution_count": 120,
     "metadata": {},
     "output_type": "execute_result"
    }
   ],
   "source": [
    "import seaborn as sns\n",
    "\n",
    "estimations = errordB\n",
    "\n",
    "\n",
    "\n",
    "\n",
    "estimations.sort()\n",
    "\n",
    "q75, q25 = np.percentile(estimations, [75 ,25])\n",
    "IQR = q75 - q25\n",
    "\n",
    "SIZE = len(estimations)\n",
    "MAX = estimations[SIZE-1]\n",
    "MIN = estimations[0]\n",
    "\n",
    "k = 2*IQR*(SIZE**(-1/3))\n",
    "\n",
    "\n",
    "(fig1, ax1) = plt.subplots(1,1)\n",
    "\n",
    "sns.histplot(estimations, bins = int((MAX - MIN)/k))\n",
    "\n",
    "ax1.set_title('Histogram estimacija $\\hat{P}_{PER}(f)$')\n",
    "ax1.set_ylabel(' ')\n",
    "ax1.set_xlabel('$n$')\n",
    "\n",
    "\n",
    "\n",
    "mean = np.mean(estimations)\n",
    "var = np.var(estimations, ddof = 1)\n",
    "\n",
    "\n",
    "textstr = '\\n'.join((\n",
    "    r'$\\mu=%.2f$' % (mean, ),\n",
    "    r'$\\sigma=%.2f$' % (np.sqrt(var), )))\n",
    "\n",
    "# these are matplotlib.patch.Patch properties\n",
    "props = dict(boxstyle='round', facecolor='wheat', alpha=0.5)\n",
    "\n",
    "# place a text box in upper left in axes coords\n",
    "ax1.text(0.5, 0.95, textstr, transform=ax1.transAxes, fontsize=14,\n",
    "        verticalalignment='top', bbox=props)\n",
    "\n",
    "plt.plot([mean +upper, mean + upper], [0, 35])\n",
    "plt.plot([mean - lower, mean - lower], [0, 35])\n",
    "\n",
    "\n",
    "\n"
   ]
  },
  {
   "cell_type": "code",
   "execution_count": 141,
   "metadata": {},
   "outputs": [
    {
     "data": {
      "application/vnd.jupyter.widget-view+json": {
       "model_id": "32afdf6261004ca0bf0bf2c34a8f6836",
       "version_major": 2,
       "version_minor": 0
      },
      "text/plain": [
       "Canvas(toolbar=Toolbar(toolitems=[('Home', 'Reset original view', 'home', 'home'), ('Back', 'Back to previous …"
      ]
     },
     "metadata": {},
     "output_type": "display_data"
    },
    {
     "data": {
      "text/plain": [
       "<matplotlib.collections.PolyCollection at 0x188fd284588>"
      ]
     },
     "execution_count": 141,
     "metadata": {},
     "output_type": "execute_result"
    }
   ],
   "source": [
    "\n",
    "f = np.linspace(0, 0.5, 50)\n",
    "M = 30\n",
    "w = np.bartlett(2*M+1)\n",
    "N = 1000\n",
    "x = np.zeros((N, 1))\n",
    "\n",
    "x[0] = np.random.standard_normal()\n",
    "\n",
    "    \n",
    "for i in range(N-1):\n",
    "    x[i + 1] = 0.6*x[i] + np.random.standard_normal()\n",
    "    \n",
    "v = (2*N)/sum(np.power(w, 2))\n",
    "        \n",
    "Pavg = 10*np.log10(perBT(x, w, f))\n",
    "Preal = 10*np.log10(1/(1.36 - 1.2*np.cos(2*np.pi*f )))\n",
    "\n",
    "upper = 10*np.log10(v/stats.chi2.ppf(df=v, q=aplha/2))\n",
    "lower =10*np.log10(stats.chi2.ppf(df=v, q=1 - aplha/2)/v)\n",
    "    \n",
    "fig, ax = plt.subplots()\n",
    "ax.plot(f,Pavg)\n",
    "ax.plot(f, Preal)\n",
    "ax.fill_between(f, (Pavg-lower), (Pavg+upper), color='b', alpha=.1)"
   ]
  }
 ],
 "metadata": {
  "kernelspec": {
   "display_name": "Python 3 (ipykernel)",
   "language": "python",
   "name": "python3"
  },
  "language_info": {
   "codemirror_mode": {
    "name": "ipython",
    "version": 3
   },
   "file_extension": ".py",
   "mimetype": "text/x-python",
   "name": "python",
   "nbconvert_exporter": "python",
   "pygments_lexer": "ipython3",
   "version": "3.7.15"
  }
 },
 "nbformat": 4,
 "nbformat_minor": 4
}
